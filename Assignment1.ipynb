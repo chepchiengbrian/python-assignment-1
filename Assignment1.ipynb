{
  "nbformat": 4,
  "nbformat_minor": 0,
  "metadata": {
    "colab": {
      "provenance": [],
      "toc_visible": true,
      "authorship_tag": "ABX9TyOsEM3FxnFc4agwZYDumDrt",
      "include_colab_link": true
    },
    "kernelspec": {
      "name": "python3",
      "display_name": "Python 3"
    },
    "language_info": {
      "name": "python"
    }
  },
  "cells": [
    {
      "cell_type": "markdown",
      "metadata": {
        "id": "view-in-github",
        "colab_type": "text"
      },
      "source": [
        "<a href=\"https://colab.research.google.com/github/chepchiengbrian/python-assignment-1/blob/main/Assignment1.ipynb\" target=\"_parent\"><img src=\"https://colab.research.google.com/assets/colab-badge.svg\" alt=\"Open In Colab\"/></a>"
      ]
    },
    {
      "cell_type": "code",
      "execution_count": null,
      "metadata": {
        "id": "NcGwN9ZXkOeo"
      },
      "outputs": [],
      "source": []
    },
    {
      "cell_type": "markdown",
      "source": [
        "Question 1 printing hello world\n"
      ],
      "metadata": {
        "id": "iHAwXBrHkeQJ"
      }
    },
    {
      "cell_type": "code",
      "source": [
        "print(\"Hello, world!\")"
      ],
      "metadata": {
        "colab": {
          "base_uri": "https://localhost:8080/"
        },
        "id": "cpdzNKLLlMIa",
        "outputId": "d18db8ef-a716-45f2-cf70-f58836297e49"
      },
      "execution_count": 1,
      "outputs": [
        {
          "output_type": "stream",
          "name": "stdout",
          "text": [
            "Hello, world!\n"
          ]
        }
      ]
    },
    {
      "cell_type": "markdown",
      "source": [
        "Question 2 printing a message"
      ],
      "metadata": {
        "id": "wFFrVz5YlWT4"
      }
    },
    {
      "cell_type": "code",
      "source": [
        "print(\"I like coding\")\n",
        "print(\"I know how to code c++\")"
      ],
      "metadata": {
        "colab": {
          "base_uri": "https://localhost:8080/"
        },
        "id": "mdFxRWrHl7_P",
        "outputId": "c9030fd8-fc27-4a7c-f5d6-e382d734d76a"
      },
      "execution_count": 3,
      "outputs": [
        {
          "output_type": "stream",
          "name": "stdout",
          "text": [
            "I like coding\n",
            "I know how to code c++\n"
          ]
        }
      ]
    },
    {
      "cell_type": "markdown",
      "source": [
        "Question 4"
      ],
      "metadata": {
        "id": "eRjOjpAsoIi-"
      }
    },
    {
      "cell_type": "code",
      "source": [
        "hours_per_day=24\n",
        "mins_per_hour=60\n",
        "births_per_min=250\n",
        "births_per_day= births_per_min*hours_per_day*mins_per_hour\n",
        "print(\"The birth per day is\", births_per_day)"
      ],
      "metadata": {
        "colab": {
          "base_uri": "https://localhost:8080/"
        },
        "id": "MxbWmg_2tZf6",
        "outputId": "cabb9a3e-4861-4ccc-eb5a-036d8cb11f1b"
      },
      "execution_count": 4,
      "outputs": [
        {
          "output_type": "stream",
          "name": "stdout",
          "text": [
            "The birth per day is 360000\n"
          ]
        }
      ]
    },
    {
      "cell_type": "markdown",
      "source": [
        "Question 5"
      ],
      "metadata": {
        "id": "laWZQNmbu1FO"
      }
    },
    {
      "cell_type": "code",
      "source": [
        "total = 891\n",
        "survived = 342\n",
        "minors = 113\n",
        "survived_fraction = survived/total\n",
        "minors_fraction =minors/total\n",
        "print(survived_fraction)\n",
        "print(minors_fraction)\n"
      ],
      "metadata": {
        "colab": {
          "base_uri": "https://localhost:8080/"
        },
        "id": "JaMpcZDS3_4W",
        "outputId": "66655d22-5c68-4b52-bf12-7a79338dede9"
      },
      "execution_count": 6,
      "outputs": [
        {
          "output_type": "stream",
          "name": "stdout",
          "text": [
            "0.3838383838383838\n",
            "0.12682379349046016\n"
          ]
        }
      ]
    }
  ]
}